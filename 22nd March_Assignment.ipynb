{
 "cells": [
  {
   "cell_type": "markdown",
   "id": "0478e3f6",
   "metadata": {},
   "source": [
    "# Q1. Pearson correlation coefficient is a measure of the linear relationship between two variables. Suppose you have collected data on the amount of time students spend studying for an exam and their final exam scores. Calculate the Pearson correlation coefficient between these two variables and interpret the result."
   ]
  },
  {
   "cell_type": "markdown",
   "id": "9e09d7ed",
   "metadata": {},
   "source": [
    "For Calculating Pearson correlation coefficient between two variables :\n",
    "    \n",
    "    1. Collect Data: Gather the data pairs for each student, consisting of the amount of time they spent studying and their corresponding final exam score.\n",
    "\n",
    "    2. Calculate the Mean: Calculate the mean (average) of both the studying time and the exam scores.\n",
    "\n",
    "    3. Calculate the Deviations: For each data point, calculate the deviation of studying time and exam score from their respective means.\n",
    "\n",
    "    4. Calculate the Product of Deviations: Multiply the deviations of studying time and exam score for each data point.\n",
    "\n",
    "    5. Calculate the Sum of Products: Sum up the products obtained in the previous step.\n",
    "\n",
    "    6. Calculate the Standard Deviations: Calculate the standard deviation of both studying time and exam scores.\n",
    "\n",
    "    7. Calculate the Pearson Correlation Coefficient: Divide the sum of products by the product of the two standard deviations.\n",
    "\n",
    "The formula for the Pearson correlation coefficient (r) is as follows:\n",
    "     r= ∑(xi​− xˉ)2⋅∑(yi​−yˉ​)2​∑(xi​−xˉ)(yi​−yˉ​)​   \n",
    "\n",
    "Where:\n",
    "\n",
    "-- xi​represents the studying time for the i-th student.\n",
    "\n",
    "-- yi​represents the exam score for the i-th student.\n",
    "\n",
    "ˉ xˉis the mean of studying time.\n",
    "\n",
    "-- yˉ​is the mean of exam scores.\n",
    "\n",
    "The resulting Pearson correlation coefficient (r) will be a value between -1 and 1. Here's how to interpret the value of r:\n",
    "\n",
    "-- r close to +1 indicates a strong positive linear correlation, meaning as studying time increases, exam scores tend to increase as well.\n",
    "\n",
    "-- r close to -1 indicates a strong negative linear correlation, meaning as studying time increases, exam scores tend to decrease.\n",
    "\n",
    "--r close to 0 indicates a weak or no linear correlation between studying time and exam scores.\n",
    "\n",
    "    "
   ]
  },
  {
   "cell_type": "markdown",
   "id": "75f0a746",
   "metadata": {},
   "source": [
    "# Q2. Spearman's rank correlation is a measure of the monotonic relationship between two variables.\n",
    "# Suppose you have collected data on the amount of sleep individuals get each night and their overall jobsatisfaction level on a scale of 1 to 10. Calculate the Spearman's rank correlation between these twovariables and interpret the result."
   ]
  },
  {
   "cell_type": "markdown",
   "id": "3cfee044",
   "metadata": {},
   "source": [
    "To calculate Spearman's rank correlation between the amount of sleep individuals get each night and their overall job satisfaction level, you would follow these steps:\n",
    "\n",
    "    1. Collect Data: Gather the data pairs for each individual, consisting of their amount of sleep and their corresponding job satisfaction level.\n",
    "\n",
    "    2. Rank the Data: Rank both sets of data (amount of sleep and job satisfaction) separately. Assign ranks based on their positions when the data is sorted in ascending order.\n",
    "\n",
    "    3. Calculate the Rank Differences: Calculate the differences between the ranks for each data point.\n",
    "\n",
    "    4. Square the Rank Differences: Square the rank differences calculated in the previous step.\n",
    "\n",
    "Calculate the Spearman's Rank Correlation: Use the formula to calculate the Spearman's rank correlation coefficient (ρ):\n",
    "    \n",
    "    ρ = 1 - (6 * Σdi^2) / (n(n^2-1)) \n",
    "    \n",
    "    \n",
    "Where:\n",
    "    \n",
    "--> di​is the rank difference for the i-th data point.\n",
    "\n",
    "--> n is the number of data points.\n",
    "\n",
    "The resulting Spearman's rank correlation (ρ) will be a value between -1 and 1.\n",
    "\n",
    "Here's how to interpret the value of ρ:\n",
    "\n",
    "-- ρ close to +1 indicates a strong positive monotonic relationship, meaning as one variable increases, the other tends to increase as well.\n",
    "\n",
    "-- ρ close to -1 indicates a strong negative monotonic relationship, meaning as one variable increases, the other tends to decrease.\n",
    "\n",
    "-- ρ close to 0 indicates a weak or no monotonic relationship between the variables.\n",
    "    \n"
   ]
  },
  {
   "cell_type": "markdown",
   "id": "60ccc628",
   "metadata": {},
   "source": [
    "# Q3. Suppose you are conducting a study to examine the relationship between the number of hours of exercise per week and body mass index (BMI) in a sample of adults. You collected data on both variables for 50 participants. Calculate the Pearson correlation coefficient and the Spearman's rank correlation between these two variables and compare the results."
   ]
  },
  {
   "cell_type": "markdown",
   "id": "6c02fff2",
   "metadata": {},
   "source": [
    "Certainly! To calculate both the Pearson correlation coefficient and the Spearman's rank correlation between the number of hours of exercise per week and body mass index (BMI) for the sample of 50 participants, follow these steps:\n",
    "\n",
    "1. Collect Data: Gather the data pairs for each participant, consisting of the number of hours of exercise per week and their corresponding BMI.\n",
    "\n",
    "2. Calculate Pearson Correlation Coefficient:\n",
    "   - Calculate the mean of both the number of hours of exercise and BMI.\n",
    "   - Calculate the deviations of each data point from their respective means.\n",
    "   - Calculate the product of these deviations for each data point.\n",
    "   - Calculate the sum of these products.\n",
    "   - Calculate the standard deviation of both the number of hours of exercise and BMI.\n",
    "   - Use the Pearson correlation coefficient formula:\n",
    "   \n",
    "       cov(X,Y) = Σ[(Xi - Xmean)*(Yi - Ymean)] / (n-1)\n",
    "\n",
    "3. Calculate Spearman's Rank Correlation:\n",
    "   - Rank both sets of data (hours of exercise and BMI) separately.\n",
    "   - Calculate the rank differences for each data point.\n",
    "   - Square the rank differences.\n",
    "   - Calculate Spearman's rank correlation using the formula:\n",
    "   \n",
    "   r = cov(X,Y) / (SD(X) * SD(Y))\n",
    "\n",
    "\n",
    "4. Interpret the Results:\n",
    "   - The Pearson correlation coefficient  will give you information about the linear relationship between hours of exercise and BMI. If r is close to +1, it indicates a strong positive linear correlation, and if it's close to -1, it indicates a strong negative linear correlation. If \\( r \\) is close to 0, it suggests a weak or no linear correlation.\n",
    "   \n",
    "   - The Spearman's rank correlation measures the monotonic relationship between the two variables. Similar to the Pearson correlation, r close to +1 indicates a strong positive monotonic relationship,  close to -1 indicates a strong negative monotonic relationship, and \\( \\rho \\) close to 0 indicates a weak or no monotonic relationship.\n",
    "\n",
    "Comparing the Results:\n",
    "- If both the Pearson correlation coefficient  and the Spearman's rank correlation  are close to the same value, it suggests a consistent relationship between the variables.\n",
    "- If the Pearson correlation coefficient is close to 0, while the Spearman's rank correlation is significantly different from 0, it suggests a nonlinear but monotonic relationship.\n",
    "\n",
    "\n",
    "Remember, both correlation coefficients provide valuable insights into the relationship between variables, but they capture different aspects of that relationship."
   ]
  },
  {
   "cell_type": "markdown",
   "id": "45d48270",
   "metadata": {},
   "source": [
    "# Q4. A researcher is interested in examining the relationship between the number of hours individuals spend watching television per day and their level of physical activity. The researcher collected data on both variables from a sample of 50 participants. Calculate the Pearson correlation coefficient between these two variables."
   ]
  },
  {
   "cell_type": "markdown",
   "id": "1c72eb56",
   "metadata": {},
   "source": [
    "To calculate the Pearson correlation coefficient between the number of hours individuals spend watching television per day and their level of physical activity in a sample of 50 participants, we would need to follow these steps:\n",
    "    \n",
    "    1. Collect the data on the two variables. We would need to record the number of hours individuals spend watching television per day and their level of physical activity for each participant.\n",
    "\n",
    "    2. Calculate the mean and standard deviation for each variable.\n",
    "\n",
    "    3. Calculate the covariance between the two variables using the formula:\n",
    "            \n",
    "            cov(X,Y) = Σ[(Xi - Xmean)*(Yi - Ymean)] / (n-1)\n",
    "\n",
    "            \n",
    "    where,\n",
    "    \n",
    "        -> X and Y are the variables (hours of television watched and level of physical activity, respectively)\n",
    "\n",
    "        -> Xi and Yi are the individual data points\n",
    "\n",
    "        -> Xmean and Ymean are the means of the variables\n",
    "\n",
    "        -> n is the sample size.\n",
    "\n",
    "Calculate the Pearson correlation coefficient using the formula:\n",
    "    \n",
    "    r = cov(X,Y) / (SD(X) * SD(Y))\n",
    "\n",
    "    where,\n",
    "         \n",
    "        -> r is the correlation coefficient, cov(X,Y) is the covariance between the two variables\n",
    "\n",
    "        -> SD(X) and SD(Y) are the standard deviations of the variables.\n",
    "\n",
    "    The resulting Pearson correlation coefficient will be a value between -1 and 1.\n",
    "\n",
    "        -> A value of -1 indicates a perfect negative correlation (as one variable increases, the other decreases).\n",
    "\n",
    "        -> A value of 0 indicates no correlation.\n",
    "        \n",
    "        -> A value of 1 indicates a perfect positive correlation (as one variable increases, the other also increases).\n",
    "\n",
    "** For example, if the Pearson correlation coefficient between hours of television watched per day and level of physical activity is -0.2, this would indicate a weak negative correlation between the two variables, meaning that as the number of hours of television watched per day increases, the level of physical activity tends to decrease slightly.\n",
    "\n",
    "** It is important to note that correlation does not necessarily imply causation, and further analysis may be needed to fully understand the relationship between the two variables."
   ]
  },
  {
   "cell_type": "markdown",
   "id": "e149def1",
   "metadata": {},
   "source": [
    "# Q5. A survey was conducted to examine the relationship between age and preference for a particular brand of soft drink. The survey results are shown below:"
   ]
  },
  {
   "attachments": {
    "Screenshot%20%284%29.png": {
     "image/png": "[encoded data removed]"
    }
   },
   "cell_type": "markdown",
   "id": "d6c48713",
   "metadata": {},
   "source": [
    "![Screenshot%20%284%29.png](attachment:Screenshot%20%284%29.png)"
   ]
  },
  {
   "cell_type": "markdown",
   "id": "644a76df",
   "metadata": {},
   "source": [
    "* The data given shows the ages and soft drink preferences of six individuals.\n",
    "\n",
    "- From this table, we can see that there are 3 individuals who prefer Coke, 2 who prefer Pepsi, and 1 who prefers Mountain Dew.\n",
    "\n",
    "- In terms of age, there is 1 individual in the 19-year-old age group, 2 in the 25-28 age group, 1 in the 31-year-old age group, 1 in the 37-year-old age group, and 1 in the 42-year-old age group.\n",
    "It is difficult to assess the relationship between age and soft drink preference based on this small sample size.\n",
    "\n",
    "- However, we can calculate the marginal frequencies and proportions to provide some descriptive statistics of the sample.\n",
    "The marginal frequency for each row and column variable can be calculated as follows:\n",
    "    \n",
    "    => For the row variable (age): 1 person in the 19-year-old age group, 2 people in the 25-28 age group, 1 person in the 31-year-old age group, 1 person in the 37-year-old age group, and 1 person in the 42-year-old age group.\n",
    "\n",
    "    => For the column variable (soft drink preference): 3 people prefer Coke, 2 people prefer Pepsi, and 1 person prefers Mountain Dew.\n",
    "\n",
    "    => The marginal proportions for each variable can be calculated by dividing the marginal frequency for each category by the total sample size (which is 6 in this case):\n",
    "        \n",
    "           => For the row variable (age): 19 years old: 1/6 = 0.17, 25-28 years old: 2/6 = 0.33, 31 years old: 1/6 = 0.17, 37 years old: 1/6 = 0.17, 42 years old: 1/6 = 0.17.\n",
    "\n",
    "        => For the column variable (soft drink preference): Coke: 3/6 = 0.5, Pepsi: 2/6 = 0.33, Mountain Dew: 1/6 = 0.17.\n",
    "\n",
    "- Based on this information, we can see that Coke is the most popular soft drink among this small sample, and that the age groups are relatively evenly distributed.\n",
    "\n",
    "- We cannot draw any strong conclusions about the relationship between age and soft drink preference without further analysis or a larger sample size."
   ]
  },
  {
   "cell_type": "markdown",
   "id": "328799d8",
   "metadata": {},
   "source": [
    "# Q6. A company is interested in examining the relationship between the number of sales calls made per day and the number of sales made per week. The company collected data on both variables from a sample of 30 sales representatives. Calculate the Pearson correlation coefficient between these two variables."
   ]
  },
  {
   "cell_type": "markdown",
   "id": "2e5c00ee",
   "metadata": {},
   "source": [
    "1- Collect Data: Gather the data pairs for each sales representative, consisting of the number of sales calls made per day and the corresponding number of sales made per week.\n",
    "\n",
    "2- Calculate the Mean: Calculate the mean (average) of both the number of sales calls per day and the number of sales per week.\n",
    "\n",
    "3- Calculate the Deviations: For each data point, calculate the deviation of the number of sales calls per day and the number of sales per week from their respective means.\n",
    "\n",
    "4- Calculate the Product of Deviations: Multiply the deviations of sales calls per day and sales per week for each data point.\n",
    "\n",
    "5- Calculate the Sum of Products: Sum up the products obtained in the previous step.\n",
    "\n",
    "6- Calculate the Standard Deviations: Calculate the standard deviation of both the number of sales calls per day and the number of sales per week.\n",
    "\n",
    "7- Calculate the Pearson Correlation Coefficient: Divide the sum of products by the product of the two standard deviations.\n",
    "\n",
    "The formula for the Pearson correlation coefficient (r) is as follows: - -\n",
    "    \n",
    "    cov(X,Y) = Σ[(Xi - Xmean)*(Yi - Ymean)] / (n-1)\n",
    "    \n",
    "    where,\n",
    "         xi​represents the number of sales calls per day for the i-th sales representative.\n",
    "        \n",
    "         yi​ represents the number of sales per week for the i-th sales representative.\n",
    "            \n",
    "        xˉis the mean of the number of sales calls per day.\n",
    "        \n",
    "        yˉ​is the mean of the number of sales per week.\n",
    "        \n",
    "After calculating  r, interpret the result:\n",
    "\n",
    "-> If r is close to +1, it indicates a strong positive linear correlation, meaning as the number of sales calls per day increases, the number of sales per week tends to increase as well.\n",
    "\n",
    "->If r is close to -1, it indicates a strong negative linear correlation, meaning as the number of sales calls per day increases, the number of sales per week tends to decrease.\n",
    "\n",
    "->If r is close to 0, it suggests a weak or no linear correlation between the variables."
   ]
  },
  {
   "cell_type": "code",
   "execution_count": null,
   "id": "4266a944",
   "metadata": {},
   "outputs": [],
   "source": []
  }
 ],
 "metadata": {
  "kernelspec": {
   "display_name": "Python 3 (ipykernel)",
   "language": "python",
   "name": "python3"
  },
  "language_info": {
   "codemirror_mode": {
    "name": "ipython",
    "version": 3
   },
   "file_extension": ".py",
   "mimetype": "text/x-python",
   "name": "python",
   "nbconvert_exporter": "python",
   "pygments_lexer": "ipython3",
   "version": "3.10.9"
  }
 },
 "nbformat": 4,
 "nbformat_minor": 5
}
